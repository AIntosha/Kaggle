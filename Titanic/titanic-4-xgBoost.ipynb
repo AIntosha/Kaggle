{
 "cells": [
  {
   "cell_type": "code",
   "execution_count": 1,
   "metadata": {},
   "outputs": [],
   "source": [
    "import pandas as pd\n",
    "import numpy as np"
   ]
  },
  {
   "cell_type": "code",
   "execution_count": 2,
   "metadata": {},
   "outputs": [],
   "source": [
    "test_df = pd.read_csv('Data/test_clear.csv')\n",
    "train_df = pd.read_csv('Data/train_clear.csv')"
   ]
  },
  {
   "cell_type": "markdown",
   "metadata": {},
   "source": [
    "### XGBoost\n"
   ]
  },
  {
   "cell_type": "code",
   "execution_count": 3,
   "metadata": {},
   "outputs": [],
   "source": [
    "X_train = train_df.drop(\"Survived\", axis=1)\n",
    "Y_train = train_df[\"Survived\"]\n",
    "X_test  = test_df.drop(['PassengerId'], axis=1).copy()"
   ]
  },
  {
   "cell_type": "code",
   "execution_count": 4,
   "metadata": {},
   "outputs": [
    {
     "name": "stdout",
     "output_type": "stream",
     "text": [
      "0.835016835016835\n",
      "0.8316238779737619\n",
      "{'learning_rate': 0.04, 'max_depth': 3, 'n_estimators': 20}\n",
      "XGBClassifier(base_score=0.5, booster='gbtree', colsample_bylevel=1,\n",
      "              colsample_bynode=1, colsample_bytree=1, gamma=0, gpu_id=-1,\n",
      "              importance_type='gain', interaction_constraints='',\n",
      "              learning_rate=0.04, max_delta_step=0, max_depth=3,\n",
      "              min_child_weight=1, missing=nan, monotone_constraints='()',\n",
      "              n_estimators=20, n_jobs=0, num_parallel_tree=1,\n",
      "              objective='binary:logistic', random_state=0, reg_alpha=0,\n",
      "              reg_lambda=1, scale_pos_weight=1, subsample=1,\n",
      "              tree_method='exact', validate_parameters=1, verbosity=None)\n",
      "83.5\n"
     ]
    }
   ],
   "source": [
    "import xgboost as xgb\n",
    "from sklearn.model_selection import train_test_split, GridSearchCV\n",
    "from sklearn.metrics import accuracy_score\n",
    "\n",
    "parameters = {\n",
    "    'max_depth': [3, 4, 5, 6, 7, 8], \n",
    "    'n_estimators': [5, 10, 20, 50, 100],\n",
    "    'learning_rate': np.linspace(0.02,0.16,8)\n",
    "}\n",
    "\n",
    "xgb_model = GridSearchCV(xgb.XGBClassifier(), parameters, cv=5).fit(X_train, Y_train)\n",
    "\n",
    "print(accuracy_score(Y_train, xgb_model.predict(X_train)))\n",
    "print(xgb_model.best_score_)\n",
    "print(xgb_model.best_params_)\n",
    "print(xgb_model.best_estimator_)\n",
    "\n",
    "acc_xgb = round(xgb_model.score(X_train, Y_train) * 100, 2)\n",
    "print(acc_xgb)"
   ]
  },
  {
   "cell_type": "code",
   "execution_count": 5,
   "metadata": {},
   "outputs": [],
   "source": [
    "submission = pd.DataFrame({\n",
    "        \"PassengerId\": test_df[\"PassengerId\"],\n",
    "        \"Survived\": xgb_model.predict(X_test)\n",
    "    })\n",
    "submission.to_csv('titanic-solution-xgBoost.csv', index=False)"
   ]
  }
 ],
 "metadata": {
  "kernelspec": {
   "display_name": "Python 3",
   "language": "python",
   "name": "python3"
  },
  "language_info": {
   "codemirror_mode": {
    "name": "ipython",
    "version": 3
   },
   "file_extension": ".py",
   "mimetype": "text/x-python",
   "name": "python",
   "nbconvert_exporter": "python",
   "pygments_lexer": "ipython3",
   "version": "3.7.6"
  }
 },
 "nbformat": 4,
 "nbformat_minor": 4
}
