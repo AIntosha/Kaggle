{
 "cells": [
  {
   "cell_type": "code",
   "execution_count": 1,
   "metadata": {},
   "outputs": [],
   "source": [
    "import pandas as pd\n",
    "import numpy as np"
   ]
  },
  {
   "cell_type": "code",
   "execution_count": 2,
   "metadata": {},
   "outputs": [],
   "source": [
    "test_df = pd.read_csv('Data/test_clear.csv')\n",
    "train_df = pd.read_csv('Data/train_clear.csv')"
   ]
  },
  {
   "cell_type": "markdown",
   "metadata": {},
   "source": [
    "### CatBoost"
   ]
  },
  {
   "cell_type": "code",
   "execution_count": 3,
   "metadata": {},
   "outputs": [],
   "source": [
    "X_train = train_df.drop(\"Survived\", axis=1)\n",
    "Y_train = train_df[\"Survived\"]\n",
    "X_test  = test_df.drop(['PassengerId'], axis=1).copy()"
   ]
  },
  {
   "cell_type": "code",
   "execution_count": 4,
   "metadata": {},
   "outputs": [
    {
     "name": "stdout",
     "output_type": "stream",
     "text": [
      "0.8361391694725028\n",
      "0.8293892411022534\n",
      "{'depth': 6, 'iterations': 100, 'learning_rate': 0.02}\n",
      "<catboost.core.CatBoostClassifier object at 0x0000018305F5F788>\n",
      "ended 83.61\n"
     ]
    }
   ],
   "source": [
    "import catboost as cb\n",
    "from sklearn.model_selection import train_test_split, GridSearchCV\n",
    "from sklearn.metrics import accuracy_score\n",
    "\n",
    "parameters = {'iterations': [10, 50, 100],\n",
    "              'learning_rate': np.linspace(0.02,0.16,4),\n",
    "              'depth': range(4,10)\n",
    "}\n",
    "\n",
    "cb_model = GridSearchCV(cb.CatBoostClassifier(verbose=False), parameters, cv=5).fit(X_train, Y_train)\n",
    "\n",
    "print(accuracy_score(Y_train, cb_model.predict(X_train)))\n",
    "print(cb_model.best_score_)\n",
    "print(cb_model.best_params_)\n",
    "print(cb_model.best_estimator_)\n",
    "\n",
    "Y_pred = cb_model.predict(X_test)\n",
    "acc_log = round(cb_model.score(X_train, Y_train) * 100, 2)\n",
    "print('ended', acc_log)"
   ]
  },
  {
   "cell_type": "code",
   "execution_count": 5,
   "metadata": {},
   "outputs": [],
   "source": [
    "submission = pd.DataFrame({\n",
    "        \"PassengerId\": test_df[\"PassengerId\"],\n",
    "        \"Survived\": Y_pred\n",
    "    })\n",
    "submission.to_csv('titanic-solution-CatBoost.csv', index=False)"
   ]
  }
 ],
 "metadata": {
  "kernelspec": {
   "display_name": "Python 3",
   "language": "python",
   "name": "python3"
  },
  "language_info": {
   "codemirror_mode": {
    "name": "ipython",
    "version": 3
   },
   "file_extension": ".py",
   "mimetype": "text/x-python",
   "name": "python",
   "nbconvert_exporter": "python",
   "pygments_lexer": "ipython3",
   "version": "3.7.6"
  }
 },
 "nbformat": 4,
 "nbformat_minor": 4
}
