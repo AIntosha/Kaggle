{
 "cells": [
  {
   "cell_type": "code",
   "execution_count": 1,
   "metadata": {},
   "outputs": [],
   "source": [
    "import pandas as pd\n",
    "import numpy as np"
   ]
  },
  {
   "cell_type": "code",
   "execution_count": 2,
   "metadata": {},
   "outputs": [],
   "source": [
    "test_df = pd.read_csv('Data/test_clear.csv')\n",
    "train_df = pd.read_csv('Data/train_clear.csv')"
   ]
  },
  {
   "cell_type": "markdown",
   "metadata": {},
   "source": [
    "### LightGBM"
   ]
  },
  {
   "cell_type": "code",
   "execution_count": 3,
   "metadata": {},
   "outputs": [],
   "source": [
    "X_train = train_df.drop(\"Survived\", axis=1)\n",
    "Y_train = train_df[\"Survived\"]\n",
    "X_test  = test_df.drop(['PassengerId'], axis=1).copy()"
   ]
  },
  {
   "cell_type": "code",
   "execution_count": 4,
   "metadata": {},
   "outputs": [
    {
     "name": "stdout",
     "output_type": "stream",
     "text": [
      "0.8395061728395061\n",
      "0.828278199736363\n",
      "{'learning_rate': 0.06666666666666667, 'max_depth': 6, 'min_data_in_leaf': 40, 'n_estimators': 50, 'num_leaves': 31}\n",
      "LGBMClassifier(boosting_type='gbdt', class_weight=None, colsample_bytree=1.0,\n",
      "               importance_type='split', learning_rate=0.06666666666666667,\n",
      "               max_depth=6, min_child_samples=20, min_child_weight=0.001,\n",
      "               min_data_in_leaf=40, min_split_gain=0.0, n_estimators=50,\n",
      "               n_jobs=-1, num_leaves=31, objective=None, random_state=None,\n",
      "               reg_alpha=0.0, reg_lambda=0.0, silent=True, subsample=1.0,\n",
      "               subsample_for_bin=200000, subsample_freq=0)\n",
      "ended 83.95\n"
     ]
    }
   ],
   "source": [
    "import lightgbm as lgbm\n",
    "from sklearn.model_selection import train_test_split, GridSearchCV\n",
    "from sklearn.metrics import accuracy_score\n",
    "\n",
    "parameters = {'n_estimators': [5, 50, 100],\n",
    "              'learning_rate': np.linspace(0.02,0.16,4),\n",
    "              'num_leaves': [31, 61],\n",
    "              'min_data_in_leaf': [20, 30, 40],\n",
    "              'max_depth': range(3,8),\n",
    "}\n",
    "\n",
    "lgbm_model = GridSearchCV(lgbm.LGBMClassifier(), parameters, cv=5).fit(X_train, Y_train)\n",
    "\n",
    "print(accuracy_score(Y_train, lgbm_model.predict(X_train)))\n",
    "print(lgbm_model.best_score_)\n",
    "print(lgbm_model.best_params_)\n",
    "print(lgbm_model.best_estimator_)\n",
    "\n",
    "Y_pred = lgbm_model.predict(X_test)\n",
    "acc_log = round(lgbm_model.score(X_train, Y_train) * 100, 2)\n",
    "print('ended', acc_log)"
   ]
  },
  {
   "cell_type": "code",
   "execution_count": 5,
   "metadata": {},
   "outputs": [],
   "source": [
    "submission = pd.DataFrame({\n",
    "        \"PassengerId\": test_df[\"PassengerId\"],\n",
    "        \"Survived\": Y_pred\n",
    "    })\n",
    "submission.to_csv('titanic-solution-LightGBM.csv', index=False)"
   ]
  }
 ],
 "metadata": {
  "kernelspec": {
   "display_name": "Python 3",
   "language": "python",
   "name": "python3"
  },
  "language_info": {
   "codemirror_mode": {
    "name": "ipython",
    "version": 3
   },
   "file_extension": ".py",
   "mimetype": "text/x-python",
   "name": "python",
   "nbconvert_exporter": "python",
   "pygments_lexer": "ipython3",
   "version": "3.7.6"
  }
 },
 "nbformat": 4,
 "nbformat_minor": 4
}
